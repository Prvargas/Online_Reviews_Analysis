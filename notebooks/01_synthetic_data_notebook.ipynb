{
 "cells": [
  {
   "cell_type": "markdown",
   "metadata": {},
   "source": [
    "# RUN THIS NOTEBOOK IN ENV: online_reviews_analysis_env"
   ]
  },
  {
   "cell_type": "code",
   "execution_count": 1,
   "metadata": {},
   "outputs": [
    {
     "name": "stdout",
     "output_type": "stream",
     "text": [
      "# conda environments:\n",
      "#\n",
      "                         C:\\Program Files\\Orange\n",
      "base                     C:\\ProgramData\\Anaconda3\n",
      "AutoCoder                C:\\Users\\PhillipRashaad\\.conda\\envs\\AutoCoder\n",
      "ChatDev_conda_env        C:\\Users\\PhillipRashaad\\.conda\\envs\\ChatDev_conda_env\n",
      "PandasProfileEnv         C:\\Users\\PhillipRashaad\\.conda\\envs\\PandasProfileEnv\n",
      "SMOP_env                 C:\\Users\\PhillipRashaad\\.conda\\envs\\SMOP_env\n",
      "autogen_autobuild_env     C:\\Users\\PhillipRashaad\\.conda\\envs\\autogen_autobuild_env\n",
      "autogen_studio_env       C:\\Users\\PhillipRashaad\\.conda\\envs\\autogen_studio_env\n",
      "automemgpt_env           C:\\Users\\PhillipRashaad\\.conda\\envs\\automemgpt_env\n",
      "classy_env               C:\\Users\\PhillipRashaad\\.conda\\envs\\classy_env\n",
      "crewai_env               C:\\Users\\PhillipRashaad\\.conda\\envs\\crewai_env\n",
      "crewai_job_search_env     C:\\Users\\PhillipRashaad\\.conda\\envs\\crewai_job_search_env\n",
      "crewai_newsletter_env     C:\\Users\\PhillipRashaad\\.conda\\envs\\crewai_newsletter_env\n",
      "crewai_poetry_env        C:\\Users\\PhillipRashaad\\.conda\\envs\\crewai_poetry_env\n",
      "crewai_readme_env        C:\\Users\\PhillipRashaad\\.conda\\envs\\crewai_readme_env\n",
      "cupy_tut                 C:\\Users\\PhillipRashaad\\.conda\\envs\\cupy_tut\n",
      "datascienv               C:\\Users\\PhillipRashaad\\.conda\\envs\\datascienv\n",
      "flask_env                C:\\Users\\PhillipRashaad\\.conda\\envs\\flask_env\n",
      "flask_pycaret_env        C:\\Users\\PhillipRashaad\\.conda\\envs\\flask_pycaret_env\n",
      "gpt-eng_env              C:\\Users\\PhillipRashaad\\.conda\\envs\\gpt-eng_env\n",
      "gpt_eng2                 C:\\Users\\PhillipRashaad\\.conda\\envs\\gpt_eng2\n",
      "keras_env                C:\\Users\\PhillipRashaad\\.conda\\envs\\keras_env\n",
      "netflix_proj_env         C:\\Users\\PhillipRashaad\\.conda\\envs\\netflix_proj_env\n",
      "online_reviews_analysis_env  *  C:\\Users\\PhillipRashaad\\.conda\\envs\\online_reviews_analysis_env\n",
      "pandasprofileenv         C:\\Users\\PhillipRashaad\\.conda\\envs\\pandasprofileenv\n",
      "party_planner_env        C:\\Users\\PhillipRashaad\\.conda\\envs\\party_planner_env\n",
      "pyautogen_env            C:\\Users\\PhillipRashaad\\.conda\\envs\\pyautogen_env\n",
      "pycaret_env              C:\\Users\\PhillipRashaad\\.conda\\envs\\pycaret_env\n",
      "pythagora_env            C:\\Users\\PhillipRashaad\\.conda\\envs\\pythagora_env\n",
      "spacy3_env               C:\\Users\\PhillipRashaad\\.conda\\envs\\spacy3_env\n",
      "textgen_env              C:\\Users\\PhillipRashaad\\.conda\\envs\\textgen_env\n",
      "trip_planner_env         C:\\Users\\PhillipRashaad\\.conda\\envs\\trip_planner_env\n",
      "udemy_langchain_course_env     C:\\Users\\PhillipRashaad\\.conda\\envs\\udemy_langchain_course_env\n",
      "webscraping_env          C:\\Users\\PhillipRashaad\\.conda\\envs\\webscraping_env\n",
      "work_experience_chatbot_env     C:\\Users\\PhillipRashaad\\.conda\\envs\\work_experience_chatbot_env\n",
      "\n"
     ]
    }
   ],
   "source": [
    "!conda env list"
   ]
  },
  {
   "cell_type": "code",
   "execution_count": null,
   "metadata": {},
   "outputs": [],
   "source": []
  },
  {
   "cell_type": "markdown",
   "metadata": {},
   "source": [
    "# SYNTHETIC DATA NOTEBOOK OVERVIEW\n",
    "\n",
    "1. Customer Demographic Table\n",
    "2. Online Reviews Table"
   ]
  },
  {
   "cell_type": "code",
   "execution_count": null,
   "metadata": {},
   "outputs": [],
   "source": []
  },
  {
   "cell_type": "markdown",
   "metadata": {},
   "source": [
    "# 1. CUSTOMER DEMOGRAPHIC TABLE"
   ]
  },
  {
   "cell_type": "markdown",
   "metadata": {},
   "source": [
    "### Synthetic Data Creation based on Aetna Insurance\n",
    "\n",
    "In this project, I am choosing to emulate Aetna Insurance to generate synthetic demographic data. This data includes age, gender, location, and plan type for a sample of customers.\n",
    "\n",
    "#### Location\n",
    "Aetna provides insurance in the following 17 states:\n",
    "- Arizona, California, Delaware, Florida, Georgia, Illinois, Indiana, Kansas, Maryland, Missouri, North Carolina, New Jersey, Nevada, Ohio, Texas, Utah, Virginia\n",
    "\n",
    "These states are grouped into four regions:\n",
    "- **North**: Illinois, Indiana, Kansas, Ohio\n",
    "- **West**: Arizona, California, Nevada, Utah\n",
    "- **East**: Delaware, Maryland, New Jersey, Virginia\n",
    "- **South**: Florida, Georgia, Missouri, North Carolina, Texas\n",
    "\n",
    "#### Plan Type\n",
    "Aetna offers two main plan types:\n",
    "1. Individual and Family Plans (Mean age = 40 years, Std = 15 years, 69% of users)\n",
    "2. Medicare Plans (Mean age = 70 years, Std = 5 years, 31% of users)\n",
    "\n",
    "#### Age\n",
    "For synthetic data generation:\n",
    "- Ages for Individual and Family plans follow a normal distribution with mean 40 and standard deviation 15, within the range 25 to 64.\n",
    "- Ages for Medicare plans follow a gamma distribution, right-skewed, within the range 65 to 80.\n",
    "\n",
    "#### Gender\n",
    "The gender distribution is:\n",
    "- Female: 55%\n",
    "- Male: 40%\n",
    "- Other: 5%\n",
    "\n",
    "#### Customer Demographic Table\n",
    "A table with 1000 customers includes:\n",
    "- **Customer_ID**: Integer from 1 to 1000\n",
    "- **Plan_Type**: \"Individual and Family\" (70%) or \"Medicare\" (30%)\n",
    "- **Age**: Based on plan type distribution\n",
    "- **Gender**: Female (55%), Male (40%), Other (5%)\n",
    "- **State**: Randomly chosen from the 17 Aetna service states\n",
    "- **Region**: Mapped from state using the predefined region grouping"
   ]
  },
  {
   "cell_type": "code",
   "execution_count": 6,
   "metadata": {},
   "outputs": [
    {
     "name": "stdout",
     "output_type": "stream",
     "text": [
      "Customer Demographic Data\n",
      "(1000, 6)\n"
     ]
    },
    {
     "data": {
      "text/html": [
       "<div>\n",
       "<style scoped>\n",
       "    .dataframe tbody tr th:only-of-type {\n",
       "        vertical-align: middle;\n",
       "    }\n",
       "\n",
       "    .dataframe tbody tr th {\n",
       "        vertical-align: top;\n",
       "    }\n",
       "\n",
       "    .dataframe thead th {\n",
       "        text-align: right;\n",
       "    }\n",
       "</style>\n",
       "<table border=\"1\" class=\"dataframe\">\n",
       "  <thead>\n",
       "    <tr style=\"text-align: right;\">\n",
       "      <th></th>\n",
       "      <th>Customer_ID</th>\n",
       "      <th>Plan_Type</th>\n",
       "      <th>Age</th>\n",
       "      <th>Gender</th>\n",
       "      <th>State</th>\n",
       "      <th>Region</th>\n",
       "    </tr>\n",
       "  </thead>\n",
       "  <tbody>\n",
       "    <tr>\n",
       "      <th>0</th>\n",
       "      <td>1</td>\n",
       "      <td>Individual and Family</td>\n",
       "      <td>42</td>\n",
       "      <td>Male</td>\n",
       "      <td>New Jersey</td>\n",
       "      <td>East</td>\n",
       "    </tr>\n",
       "    <tr>\n",
       "      <th>1</th>\n",
       "      <td>2</td>\n",
       "      <td>Medicare</td>\n",
       "      <td>68</td>\n",
       "      <td>Male</td>\n",
       "      <td>Missouri</td>\n",
       "      <td>South</td>\n",
       "    </tr>\n",
       "    <tr>\n",
       "      <th>2</th>\n",
       "      <td>3</td>\n",
       "      <td>Medicare</td>\n",
       "      <td>69</td>\n",
       "      <td>Male</td>\n",
       "      <td>Georgia</td>\n",
       "      <td>South</td>\n",
       "    </tr>\n",
       "    <tr>\n",
       "      <th>3</th>\n",
       "      <td>4</td>\n",
       "      <td>Individual and Family</td>\n",
       "      <td>46</td>\n",
       "      <td>Other</td>\n",
       "      <td>Maryland</td>\n",
       "      <td>East</td>\n",
       "    </tr>\n",
       "    <tr>\n",
       "      <th>4</th>\n",
       "      <td>5</td>\n",
       "      <td>Individual and Family</td>\n",
       "      <td>46</td>\n",
       "      <td>Female</td>\n",
       "      <td>California</td>\n",
       "      <td>West</td>\n",
       "    </tr>\n",
       "  </tbody>\n",
       "</table>\n",
       "</div>"
      ],
      "text/plain": [
       "   Customer_ID              Plan_Type  Age  Gender       State Region\n",
       "0            1  Individual and Family   42    Male  New Jersey   East\n",
       "1            2               Medicare   68    Male    Missouri  South\n",
       "2            3               Medicare   69    Male     Georgia  South\n",
       "3            4  Individual and Family   46   Other    Maryland   East\n",
       "4            5  Individual and Family   46  Female  California   West"
      ]
     },
     "execution_count": 6,
     "metadata": {},
     "output_type": "execute_result"
    }
   ],
   "source": [
    "\n",
    "# Ensure the src directory is in the system path\n",
    "import sys\n",
    "import os\n",
    "\n",
    "# Add the src directory to the system path\n",
    "sys.path.append(os.path.abspath(os.path.join('..', 'src')))\n",
    "\n",
    "\n",
    "# Import the classes\n",
    "from data_generation import CustomerDemographicTable, SyntheticReviewGenerator\n",
    "\n",
    "# Generate customer demographic data\n",
    "customer_table_generator = CustomerDemographicTable(n_customers=1000, random_seed=42)\n",
    "\n",
    "customer_df = customer_table_generator.generate_data()\n",
    "print(\"Customer Demographic Data\")\n",
    "print(customer_df.shape)\n",
    "\n",
    "customer_df.head()"
   ]
  },
  {
   "cell_type": "code",
   "execution_count": null,
   "metadata": {},
   "outputs": [],
   "source": [
    "# Save the data to CSV files\n",
    "customer_df.to_csv('customer_demographic_data.csv', index=False)"
   ]
  },
  {
   "cell_type": "code",
   "execution_count": null,
   "metadata": {},
   "outputs": [],
   "source": []
  },
  {
   "cell_type": "markdown",
   "metadata": {},
   "source": [
    "# 2. ONLINE REVIEWS TABLE"
   ]
  },
  {
   "cell_type": "markdown",
   "metadata": {},
   "source": [
    "### HEALTH INSURANCE TOPICS\n",
    "\n",
    "This code now incorporates a wider range of topics for both positive and negative reviews, enhancing the diversity and realism of the generated synthetic data.\n",
    "\n",
    "#### Positive Topics\n",
    "The top 10 topics customers commonly praise regarding health insurance services typically include:\n",
    "\n",
    "1. **Comprehensive Coverage**: Praise for policies that offer extensive coverage for a wide range of medical services, treatments, and medications.\n",
    "2. **Affordable Premiums**: Satisfaction with reasonable and affordable premium costs.\n",
    "3. **Quick Claims Processing**: Positive feedback on fast and efficient claims processing.\n",
    "4. **Helpful Customer Service**: Commendations for responsive, knowledgeable, and helpful customer service representatives.\n",
    "5. **Network Quality**: Appreciation for a large network of in-network providers, including top hospitals and specialists.\n",
    "6. **Easy Access to Care**: Praise for ease of access to necessary medical care without extensive preauthorization requirements.\n",
    "7. **User-Friendly Online Tools**: Positive comments about the convenience of online portals and mobile apps for managing policies, claims, and healthcare needs.\n",
    "8. **Preventive Care Coverage**: Satisfaction with coverage for preventive care services, such as annual check-ups, screenings, and vaccinations.\n",
    "9. **Clear Communication**: Praise for clear, transparent communication regarding policy details, benefits, and coverage changes.\n",
    "10. **Health and Wellness Programs**: Appreciation for additional health and wellness programs, such as fitness discounts, telehealth services, and wellness incentives.\n",
    "\n",
    "These topics are often highlighted in customer reviews and surveys, showcasing the aspects of health insurance services that customers find most valuable and satisfactory.\n",
    "\n",
    "\n",
    "#### Negative Topics\n",
    "The top 10 topics customers commonly complain about regarding health insurance services typically include:\n",
    "\n",
    "1. **Claim Denials**: Complaints about claims being denied or not being covered as expected.\n",
    "2. **Billing Issues**: Problems with billing errors, unexpected charges, or difficulties understanding bills.\n",
    "3. **Coverage Limitations**: Frustrations about certain treatments, medications, or services not being covered or having limited coverage.\n",
    "4. **Customer Service**: Negative experiences with customer service representatives, including long wait times and unhelpful responses.\n",
    "5. **Premium Costs**: Concerns about high premium costs or unexpected increases in premiums.\n",
    "6. **Network Issues**: Difficulties finding in-network doctors or hospitals and dissatisfaction with the network of providers.\n",
    "7. **Preauthorization Requirements**: Complaints about the complexity and delays associated with preauthorization processes for certain treatments or medications.\n",
    "8. **Policy Changes**: Frustration with changes in policy terms or benefits, often with little notice.\n",
    "9. **Lack of Transparency**: Issues with understanding what is covered and the terms of the policy due to unclear or confusing information.\n",
    "10. **Appeals Process**: Problems with the appeals process for denied claims, including lengthy and complicated procedures.\n",
    "\n",
    "These topics are commonly highlighted in customer reviews and surveys related to health insurance services."
   ]
  },
  {
   "cell_type": "markdown",
   "metadata": {},
   "source": [
    "## 2-A) CLASS OBJECT - Sythetic Generator\n",
    "\n",
    "### PART 1 - Class Object\n",
    "- Made the Rating/Sentiment align with the Review Text\n",
    "- Added more variety to the positive and negative prompts\n",
    "- Added Prompt column to evaluate topic modeling algorithms\n",
    "- Added Company_Name to make this class object dynamic for other insurance companies.\n",
    "\n",
    "### PART 2 - Class Object\n",
    "- Added Year over Year positive Rating score using normal distribution.\n",
    "- Incorporated a dict with year and corresponding desired Rating mean.\n",
    "- Using a constant standard deviation of 2 for every year.\n",
    "\n"
   ]
  },
  {
   "cell_type": "code",
   "execution_count": 28,
   "metadata": {},
   "outputs": [
    {
     "data": {
      "text/plain": [
       "True"
      ]
     },
     "execution_count": 28,
     "metadata": {},
     "output_type": "execute_result"
    }
   ],
   "source": [
    "from dotenv import load_dotenv\n",
    "import os\n",
    "\n",
    "# Load the environment variables from .env file\n",
    "load_dotenv()\n",
    "\n"
   ]
  },
  {
   "cell_type": "code",
   "execution_count": 32,
   "metadata": {},
   "outputs": [
    {
     "name": "stdout",
     "output_type": "stream",
     "text": [
      "LEN:  51\n"
     ]
    }
   ],
   "source": [
    "# Get OpenAI API key\n",
    "api_key = os.getenv(\"OPENAI_KEY\")\n",
    "\n",
    "print(\"LEN: \",len(api_key))"
   ]
  },
  {
   "cell_type": "code",
   "execution_count": 31,
   "metadata": {},
   "outputs": [
    {
     "name": "stdout",
     "output_type": "stream",
     "text": [
      "Synthetic Reviews Data\n",
      "(5, 8)\n"
     ]
    },
    {
     "data": {
      "text/html": [
       "<div>\n",
       "<style scoped>\n",
       "    .dataframe tbody tr th:only-of-type {\n",
       "        vertical-align: middle;\n",
       "    }\n",
       "\n",
       "    .dataframe tbody tr th {\n",
       "        vertical-align: top;\n",
       "    }\n",
       "\n",
       "    .dataframe thead th {\n",
       "        text-align: right;\n",
       "    }\n",
       "</style>\n",
       "<table border=\"1\" class=\"dataframe\">\n",
       "  <thead>\n",
       "    <tr style=\"text-align: right;\">\n",
       "      <th></th>\n",
       "      <th>Review_ID</th>\n",
       "      <th>Customer_ID</th>\n",
       "      <th>Review_Date</th>\n",
       "      <th>Rating</th>\n",
       "      <th>Review_Text</th>\n",
       "      <th>Sentiment</th>\n",
       "      <th>Prompt</th>\n",
       "      <th>Company_Name</th>\n",
       "    </tr>\n",
       "  </thead>\n",
       "  <tbody>\n",
       "    <tr>\n",
       "      <th>0</th>\n",
       "      <td>1</td>\n",
       "      <td>9</td>\n",
       "      <td>2023-08-02</td>\n",
       "      <td>2</td>\n",
       "      <td>\"Aetna has been nothing but a headache since I...</td>\n",
       "      <td>negative</td>\n",
       "      <td>Write a negative customer review for Aetna's h...</td>\n",
       "      <td>Aetna's health insurance service</td>\n",
       "    </tr>\n",
       "    <tr>\n",
       "      <th>1</th>\n",
       "      <td>2</td>\n",
       "      <td>4</td>\n",
       "      <td>2020-06-27</td>\n",
       "      <td>2</td>\n",
       "      <td>Unfortunately, my experience with Aetna's heal...</td>\n",
       "      <td>negative</td>\n",
       "      <td>Write a negative customer review for Aetna's h...</td>\n",
       "      <td>Aetna's health insurance service</td>\n",
       "    </tr>\n",
       "    <tr>\n",
       "      <th>2</th>\n",
       "      <td>3</td>\n",
       "      <td>9</td>\n",
       "      <td>2021-04-21</td>\n",
       "      <td>2</td>\n",
       "      <td>I have been incredibly disappointed with Aetna...</td>\n",
       "      <td>negative</td>\n",
       "      <td>Write a negative customer review for Aetna's h...</td>\n",
       "      <td>Aetna's health insurance service</td>\n",
       "    </tr>\n",
       "    <tr>\n",
       "      <th>3</th>\n",
       "      <td>4</td>\n",
       "      <td>1</td>\n",
       "      <td>2022-05-09</td>\n",
       "      <td>1</td>\n",
       "      <td>I honestly wish I could give Aetna zero stars....</td>\n",
       "      <td>negative</td>\n",
       "      <td>Write a negative customer review for Aetna's h...</td>\n",
       "      <td>Aetna's health insurance service</td>\n",
       "    </tr>\n",
       "    <tr>\n",
       "      <th>4</th>\n",
       "      <td>5</td>\n",
       "      <td>5</td>\n",
       "      <td>2024-04-03</td>\n",
       "      <td>5</td>\n",
       "      <td>I recently had an incredible experience with A...</td>\n",
       "      <td>positive</td>\n",
       "      <td>Write a positive customer review for Aetna's h...</td>\n",
       "      <td>Aetna's health insurance service</td>\n",
       "    </tr>\n",
       "  </tbody>\n",
       "</table>\n",
       "</div>"
      ],
      "text/plain": [
       "   Review_ID  Customer_ID Review_Date  Rating  \\\n",
       "0          1            9  2023-08-02       2   \n",
       "1          2            4  2020-06-27       2   \n",
       "2          3            9  2021-04-21       2   \n",
       "3          4            1  2022-05-09       1   \n",
       "4          5            5  2024-04-03       5   \n",
       "\n",
       "                                         Review_Text Sentiment  \\\n",
       "0  \"Aetna has been nothing but a headache since I...  negative   \n",
       "1  Unfortunately, my experience with Aetna's heal...  negative   \n",
       "2  I have been incredibly disappointed with Aetna...  negative   \n",
       "3  I honestly wish I could give Aetna zero stars....  negative   \n",
       "4  I recently had an incredible experience with A...  positive   \n",
       "\n",
       "                                              Prompt  \\\n",
       "0  Write a negative customer review for Aetna's h...   \n",
       "1  Write a negative customer review for Aetna's h...   \n",
       "2  Write a negative customer review for Aetna's h...   \n",
       "3  Write a negative customer review for Aetna's h...   \n",
       "4  Write a positive customer review for Aetna's h...   \n",
       "\n",
       "                       Company_Name  \n",
       "0  Aetna's health insurance service  \n",
       "1  Aetna's health insurance service  \n",
       "2  Aetna's health insurance service  \n",
       "3  Aetna's health insurance service  \n",
       "4  Aetna's health insurance service  "
      ]
     },
     "execution_count": 31,
     "metadata": {},
     "output_type": "execute_result"
    }
   ],
   "source": [
    "\n",
    "# Generate synthetic reviews\n",
    "rating_mean_dict = {\n",
    "    2020: 1.5,\n",
    "    2021: 1.9,\n",
    "    2022: 2.4,\n",
    "    2023: 3.1,\n",
    "    2024: 4.2\n",
    "}\n",
    "\n",
    "\n",
    "#Use class object\n",
    "generator = SyntheticReviewGenerator(api_key, \"Aetna's health insurance service\", \n",
    "                                     num_customers=1000, num_reviews=1000, \n",
    "                                     start_date=\"1/1/2020\", end_date=\"6/16/2024\", \n",
    "                                     rating_mean_dict=rating_mean_dict, std_dev=2.0\n",
    "                                     )\n",
    "\n",
    "\n",
    "reviews_df = generator.generate_reviews()\n",
    "print(\"Synthetic Reviews Data\")\n",
    "print(reviews_df.shape)\n",
    "\n",
    "reviews_df.head()\n"
   ]
  },
  {
   "cell_type": "code",
   "execution_count": null,
   "metadata": {},
   "outputs": [],
   "source": [
    "\n",
    "# Save the data to CSV files\n",
    "reviews_df.to_csv('synthetic_reviews_data.csv', index=False)"
   ]
  },
  {
   "cell_type": "code",
   "execution_count": null,
   "metadata": {},
   "outputs": [],
   "source": []
  },
  {
   "cell_type": "markdown",
   "metadata": {},
   "source": [
    "# 3. MERGE DATASETS"
   ]
  },
  {
   "cell_type": "markdown",
   "metadata": {},
   "source": [
    "## Benefits of Merging Datasets\n",
    "\n",
    "Merging the datasets offers several advantages for building dashboards:\n",
    "\n",
    "- **Streamlined Process**: Consolidating all data into a single source simplifies the workflow, making it easier to manage and visualize.\n",
    "- **Enhanced Performance**: A unified data source ensures faster loading times and more efficient filtering.\n",
    "- **Consistency**: Combining datasets ensures uniformity across all data points, reducing discrepancies and potential errors.\n",
    "- **Simplified Data Management**: Handling a single dataset is less complex than managing multiple sources, facilitating easier updates and maintenance.\n",
    "\n",
    "**NOTE**: Merging very large datasets or live datasets may not be practical in all cases. Consider the size and nature of the data before deciding to merge."
   ]
  },
  {
   "cell_type": "code",
   "execution_count": null,
   "metadata": {},
   "outputs": [],
   "source": [
    "# Perform the left join again, this time renaming the Customer_ID columns to keep both\n",
    "merged_data_with_ids = pd.merge(\n",
    "                                customer_df.rename(columns={\"Customer_ID\": \"Customer_ID_Demo\"}),\n",
    "                                reviews_df.rename(columns={\"Customer_ID\": \"Customer_ID_Reviews\"}),\n",
    "                                left_on=\"Customer_ID_Demo\",\n",
    "                                right_on=\"Customer_ID_Reviews\",\n",
    "                                how=\"left\"\n",
    "                            )\n"
   ]
  },
  {
   "cell_type": "code",
   "execution_count": null,
   "metadata": {},
   "outputs": [],
   "source": [
    "# Define a function to assign age groups based on the given criteria\n",
    "def assign_age_group(age):\n",
    "    if age < 25:\n",
    "        return \"18 to 24\"\n",
    "    elif age < 35:\n",
    "        return \"25 to 34\"\n",
    "    elif age < 45:\n",
    "        return \"35 to 44\"\n",
    "    elif age < 55:\n",
    "        return \"45 to 54\"\n",
    "    elif age < 65:\n",
    "        return \"55 to 64\"\n",
    "    elif age < 70:\n",
    "        return \"65 to 69\"\n",
    "    elif age < 75:\n",
    "        return \"70 to 74\"\n",
    "    else:\n",
    "        return \"75+\"\n",
    "\n",
    "# Apply the function to create the Age_Group column\n",
    "merged_data_with_ids[\"Age_Group\"] = merged_data_with_ids[\"Age\"].apply(assign_age_group)\n",
    "\n",
    "merged_data_with_ids.head()\n"
   ]
  },
  {
   "cell_type": "code",
   "execution_count": null,
   "metadata": {},
   "outputs": [],
   "source": [
    "merged_data_with_ids.to_csv('03 - synthetic_merged_data.csv', index=False)"
   ]
  },
  {
   "cell_type": "code",
   "execution_count": null,
   "metadata": {},
   "outputs": [],
   "source": []
  }
 ],
 "metadata": {
  "kernelspec": {
   "display_name": "online_reviews_analysis_env",
   "language": "python",
   "name": "python3"
  },
  "language_info": {
   "codemirror_mode": {
    "name": "ipython",
    "version": 3
   },
   "file_extension": ".py",
   "mimetype": "text/x-python",
   "name": "python",
   "nbconvert_exporter": "python",
   "pygments_lexer": "ipython3",
   "version": "3.12.3"
  }
 },
 "nbformat": 4,
 "nbformat_minor": 2
}
